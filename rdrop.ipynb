{
 "cells": [
  {
   "cell_type": "code",
   "execution_count": 1,
   "metadata": {},
   "outputs": [
    {
     "name": "stdout",
     "output_type": "stream",
     "text": [
      "surfaces:\n",
      "1 ) BCC100 \n",
      "\n",
      "2 ) BCC110 \n",
      "\n",
      "3 ) BCC111 \n",
      "\n",
      "4 ) SC100 \n",
      "\n",
      "5 ) SC110 \n",
      "\n",
      "6 ) SC111 \n",
      "\n",
      "7 ) FCC100 \n",
      "\n",
      "8 ) FCC110 \n",
      "\n",
      "9 ) FCC111 \n",
      "\n",
      "enter index of surface:1\n",
      "for a surface BCC100\n",
      "enter number of variations in temperature:1\n",
      "enter temperature0:1\n",
      "enter density of fluid for the temperature01\n",
      "enter density of vapour:01\n",
      "enter contact angle:1\n",
      "enter effective interfacial energy:1\n",
      "enter dimensions of x-axis:1\n",
      "enter dimensions of y-axis:1\n",
      "enter dimensions of z-axis:1\n",
      "enter number of observations:2\n"
     ]
    }
   ],
   "source": [
    "import numpy as np\n",
    "import math\n",
    "surface = ['BCC100','BCC110','BCC111','SC100','SC110','SC111','FCC100','FCC110','FCC111']\n",
    "print('surfaces:')\n",
    "for j in range(len(surface)):\n",
    "    print (j+1,')',surface[j],'\\n')\n",
    "index= int(input(\"enter index of surface:\"))\n",
    "print (\"for a surface\",surface[index-1])\n",
    "r_drop=[]\n",
    "theta=[]\n",
    "cos_theta=[]\n",
    "gamma_eff=[]\n",
    "v_tot=[]\n",
    "n_atoms=[]\n",
    "v_drop=[]\n",
    "x_dim=[]\n",
    "y_dim=[]\n",
    "z_dim=[]\n",
    "t= float(input('enter number of variations in temperature:'))\n",
    "density_liquid=[]\n",
    "density_vapour=[]\n",
    "tmp=[]\n",
    "#--------------------------------------------------------------------------------------\n",
    "def rsl(r_drop,theta):\n",
    "    rsl = r_drop*math.sin(math.radians(theta.nominal_value))\n",
    "    return rsl\n",
    "def asl(r_drop,theta):\n",
    "    return np.pi*rsl**2\n",
    "def alv(r_drop,theta):\n",
    "    hcent = (r_drop**2-rsl**2)**(0.5) + r_drop\n",
    "    return   np.pi*(hcent**2+rsl**2)\n",
    "#---------------------------------------------------------------------------------------\n",
    "for i in range (int(t)):\n",
    "    h=float(input('enter temperature'+str(i)+':'))\n",
    "    tmp.append(h)\n",
    "    j =float(input(\"enter density of fluid for the temperature\"+str(i)))\n",
    "    density_liquid.append(j)\n",
    "    k =float(input(\"enter density of vapour:\"+str(i)))\n",
    "    density_vapour.append(k)\n",
    "    b = float(input(\"enter contact angle:\"))\n",
    "    theta.append(b)\n",
    "    c= math.cos(math.radians(b))\n",
    "    cos_theta.append(c)\n",
    "    d=float(input(\"enter effective interfacial energy:\"))\n",
    "    gamma_eff.append(d)\n",
    "    x=float(input('enter dimensions of x-axis:'))\n",
    "    y=float(input('enter dimensions of y-axis:'))\n",
    "    z=float(input('enter dimensions of z-axis:'))\n",
    "    x_dim.append(x)\n",
    "    y_dim.append(y)\n",
    "    z_dim.append(z)\n",
    "    g=x*y*z\n",
    "    v_tot.append(g)\n",
    "n= int(input(\"enter number of observations:\"))\n"
   ]
  },
  {
   "cell_type": "code",
   "execution_count": 2,
   "metadata": {},
   "outputs": [
    {
     "name": "stdout",
     "output_type": "stream",
     "text": [
      "enter radius of drop:1\n",
      "enter radius of drop:1\n"
     ]
    }
   ],
   "source": [
    "for j in range(int(t)):\n",
    "    for i in range(n):\n",
    "        name=\"radius_\"+str(i+1)+\".csv\"\n",
    "        rad_file = open(name,\"w\")\n",
    "        heading=\"drop_radius\"+','+\"drop_volume\"+','+\"N_atoms\"+','+\"total_volume\"+','+\"x_axis\"+','+\"y_axis\"+','+\"z_axis\"\n",
    "        rad_file.write(heading+'\\n')\n",
    "        a=float(input(\"enter radius of drop:\"))\n",
    "        r_drop.append(a)\n",
    "        e=(np.pi/3)*(a**3)*((1+cos_theta[j])**2)*(2-cos_theta[j])\n",
    "        v_drop.append(e)\n",
    "        f=(density_liquid[j]*e)+(density_vapour[j]*(v_tot[j]-e))\n",
    "        n_atoms.append(f)\n",
    "        con=str(a)+','+str(e)+','+str(f)+','+str(v_tot[j])+','+str(x_dim[j])+','+str(y_dim[j])+','+str(z_dim)\n",
    "        rad_file.write(con+\"\\n\")\n",
    "        rad_file.close()\n",
    "\n",
    "\n",
    "\n",
    "\n",
    "\n",
    "\n"
   ]
  },
  {
   "cell_type": "code",
   "execution_count": null,
   "metadata": {},
   "outputs": [],
   "source": []
  },
  {
   "cell_type": "code",
   "execution_count": null,
   "metadata": {},
   "outputs": [],
   "source": []
  },
  {
   "cell_type": "code",
   "execution_count": null,
   "metadata": {},
   "outputs": [],
   "source": []
  }
 ],
 "metadata": {
  "file_extension": ".py",
  "kernelspec": {
   "display_name": "Python 3",
   "language": "python",
   "name": "python3"
  },
  "language_info": {
   "codemirror_mode": {
    "name": "ipython",
    "version": 3
   },
   "file_extension": ".py",
   "mimetype": "text/x-python",
   "name": "python",
   "nbconvert_exporter": "python",
   "pygments_lexer": "ipython3",
   "version": "3.7.3"
  },
  "mimetype": "text/x-python",
  "name": "python",
  "npconvert_exporter": "python",
  "pygments_lexer": "ipython3",
  "version": 3
 },
 "nbformat": 4,
 "nbformat_minor": 2
}
